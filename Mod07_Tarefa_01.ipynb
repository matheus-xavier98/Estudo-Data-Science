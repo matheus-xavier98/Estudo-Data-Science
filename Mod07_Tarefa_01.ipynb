{
 "cells": [
  {
   "cell_type": "markdown",
   "metadata": {
    "id": "d8yCrvnM_2sd"
   },
   "source": [
    "# Módulo 07, Tarefa 01\n",
    "\n",
    "Vamos começar a mexer na nossa base de projeto? Já fizemos um exercício de montar a variável resposta, já pudemos perceber que essa atividade pode não ser trivial. Vamos agora trabalhar a base para que fique propícia ao *scikitlearn* para trabalharmos.\n",
    "\n",
    "Lembrando, a base se chama demo01.csv, e originalmente está publicada [aqui](https://www.kaggle.com/rikdifos/credit-card-approval-prediction)."
   ]
  },
  {
   "cell_type": "markdown",
   "metadata": {
    "id": "hcMBVVE8_2sg"
   },
   "source": [
    "#### 1) Carregue a base e avalie:\n",
    "\n",
    "- As variáveis\n",
    "- Tipos de dados de cada variável\n",
    "- Quantidade de missings\n",
    "- Distribuição da variável resposta (mau)"
   ]
  },
  {
   "cell_type": "code",
   "execution_count": 1,
   "metadata": {
    "id": "jfUxW_PX_2sh"
   },
   "outputs": [
    {
     "name": "stderr",
     "output_type": "stream",
     "text": [
      "C:\\Users\\Matheus\\AppData\\Local\\Temp\\ipykernel_9792\\687462750.py:1: DeprecationWarning: \n",
      "Pyarrow will become a required dependency of pandas in the next major release of pandas (pandas 3.0),\n",
      "(to allow more performant data types, such as the Arrow string type, and better interoperability with other libraries)\n",
      "but was not found to be installed on your system.\n",
      "If this would cause problems for you,\n",
      "please provide us feedback at https://github.com/pandas-dev/pandas/issues/54466\n",
      "        \n",
      "  import pandas as pd\n"
     ]
    }
   ],
   "source": [
    "import pandas as pd\n",
    "import matplotlib.pyplot as plt\n",
    "import seaborn as sns"
   ]
  },
  {
   "cell_type": "code",
   "execution_count": 2,
   "metadata": {},
   "outputs": [
    {
     "data": {
      "text/html": [
       "<div>\n",
       "<style scoped>\n",
       "    .dataframe tbody tr th:only-of-type {\n",
       "        vertical-align: middle;\n",
       "    }\n",
       "\n",
       "    .dataframe tbody tr th {\n",
       "        vertical-align: top;\n",
       "    }\n",
       "\n",
       "    .dataframe thead th {\n",
       "        text-align: right;\n",
       "    }\n",
       "</style>\n",
       "<table border=\"1\" class=\"dataframe\">\n",
       "  <thead>\n",
       "    <tr style=\"text-align: right;\">\n",
       "      <th></th>\n",
       "      <th>sexo</th>\n",
       "      <th>posse_de_veiculo</th>\n",
       "      <th>posse_de_imovel</th>\n",
       "      <th>qtd_filhos</th>\n",
       "      <th>tipo_renda</th>\n",
       "      <th>educacao</th>\n",
       "      <th>estado_civil</th>\n",
       "      <th>tipo_residencia</th>\n",
       "      <th>idade</th>\n",
       "      <th>tempo_emprego</th>\n",
       "      <th>possui_celular</th>\n",
       "      <th>possui_fone_comercial</th>\n",
       "      <th>possui_fone</th>\n",
       "      <th>possui_email</th>\n",
       "      <th>qt_pessoas_residencia</th>\n",
       "      <th>mau</th>\n",
       "    </tr>\n",
       "  </thead>\n",
       "  <tbody>\n",
       "    <tr>\n",
       "      <th>0</th>\n",
       "      <td>M</td>\n",
       "      <td>Y</td>\n",
       "      <td>Y</td>\n",
       "      <td>0</td>\n",
       "      <td>Working</td>\n",
       "      <td>Secondary / secondary special</td>\n",
       "      <td>Married</td>\n",
       "      <td>House / apartment</td>\n",
       "      <td>58.832877</td>\n",
       "      <td>3.106849</td>\n",
       "      <td>1</td>\n",
       "      <td>0</td>\n",
       "      <td>0</td>\n",
       "      <td>0</td>\n",
       "      <td>2.0</td>\n",
       "      <td>False</td>\n",
       "    </tr>\n",
       "    <tr>\n",
       "      <th>1</th>\n",
       "      <td>F</td>\n",
       "      <td>N</td>\n",
       "      <td>Y</td>\n",
       "      <td>0</td>\n",
       "      <td>Commercial associate</td>\n",
       "      <td>Secondary / secondary special</td>\n",
       "      <td>Single / not married</td>\n",
       "      <td>House / apartment</td>\n",
       "      <td>52.356164</td>\n",
       "      <td>8.358904</td>\n",
       "      <td>1</td>\n",
       "      <td>0</td>\n",
       "      <td>1</td>\n",
       "      <td>1</td>\n",
       "      <td>1.0</td>\n",
       "      <td>False</td>\n",
       "    </tr>\n",
       "    <tr>\n",
       "      <th>2</th>\n",
       "      <td>F</td>\n",
       "      <td>N</td>\n",
       "      <td>Y</td>\n",
       "      <td>0</td>\n",
       "      <td>Commercial associate</td>\n",
       "      <td>Secondary / secondary special</td>\n",
       "      <td>Single / not married</td>\n",
       "      <td>House / apartment</td>\n",
       "      <td>52.356164</td>\n",
       "      <td>8.358904</td>\n",
       "      <td>1</td>\n",
       "      <td>0</td>\n",
       "      <td>1</td>\n",
       "      <td>1</td>\n",
       "      <td>1.0</td>\n",
       "      <td>False</td>\n",
       "    </tr>\n",
       "    <tr>\n",
       "      <th>3</th>\n",
       "      <td>M</td>\n",
       "      <td>Y</td>\n",
       "      <td>Y</td>\n",
       "      <td>0</td>\n",
       "      <td>Working</td>\n",
       "      <td>Higher education</td>\n",
       "      <td>Married</td>\n",
       "      <td>House / apartment</td>\n",
       "      <td>46.224658</td>\n",
       "      <td>2.106849</td>\n",
       "      <td>1</td>\n",
       "      <td>1</td>\n",
       "      <td>1</td>\n",
       "      <td>1</td>\n",
       "      <td>2.0</td>\n",
       "      <td>False</td>\n",
       "    </tr>\n",
       "    <tr>\n",
       "      <th>4</th>\n",
       "      <td>F</td>\n",
       "      <td>Y</td>\n",
       "      <td>N</td>\n",
       "      <td>0</td>\n",
       "      <td>Working</td>\n",
       "      <td>Incomplete higher</td>\n",
       "      <td>Married</td>\n",
       "      <td>House / apartment</td>\n",
       "      <td>29.230137</td>\n",
       "      <td>3.021918</td>\n",
       "      <td>1</td>\n",
       "      <td>0</td>\n",
       "      <td>0</td>\n",
       "      <td>0</td>\n",
       "      <td>2.0</td>\n",
       "      <td>False</td>\n",
       "    </tr>\n",
       "  </tbody>\n",
       "</table>\n",
       "</div>"
      ],
      "text/plain": [
       "  sexo posse_de_veiculo posse_de_imovel  qtd_filhos            tipo_renda  \\\n",
       "0    M                Y               Y           0               Working   \n",
       "1    F                N               Y           0  Commercial associate   \n",
       "2    F                N               Y           0  Commercial associate   \n",
       "3    M                Y               Y           0               Working   \n",
       "4    F                Y               N           0               Working   \n",
       "\n",
       "                        educacao          estado_civil    tipo_residencia  \\\n",
       "0  Secondary / secondary special               Married  House / apartment   \n",
       "1  Secondary / secondary special  Single / not married  House / apartment   \n",
       "2  Secondary / secondary special  Single / not married  House / apartment   \n",
       "3               Higher education               Married  House / apartment   \n",
       "4              Incomplete higher               Married  House / apartment   \n",
       "\n",
       "       idade  tempo_emprego  possui_celular  possui_fone_comercial  \\\n",
       "0  58.832877       3.106849               1                      0   \n",
       "1  52.356164       8.358904               1                      0   \n",
       "2  52.356164       8.358904               1                      0   \n",
       "3  46.224658       2.106849               1                      1   \n",
       "4  29.230137       3.021918               1                      0   \n",
       "\n",
       "   possui_fone  possui_email  qt_pessoas_residencia    mau  \n",
       "0            0             0                    2.0  False  \n",
       "1            1             1                    1.0  False  \n",
       "2            1             1                    1.0  False  \n",
       "3            1             1                    2.0  False  \n",
       "4            0             0                    2.0  False  "
      ]
     },
     "execution_count": 2,
     "metadata": {},
     "output_type": "execute_result"
    }
   ],
   "source": [
    "df_principal = pd.read_csv(\"demo01.csv\") \n",
    "df_principal.head()\n"
   ]
  },
  {
   "cell_type": "code",
   "execution_count": 3,
   "metadata": {},
   "outputs": [
    {
     "data": {
      "text/plain": [
       "Index(['sexo', 'posse_de_veiculo', 'posse_de_imovel', 'qtd_filhos',\n",
       "       'tipo_renda', 'educacao', 'estado_civil', 'tipo_residencia', 'idade',\n",
       "       'tempo_emprego', 'possui_celular', 'possui_fone_comercial',\n",
       "       'possui_fone', 'possui_email', 'qt_pessoas_residencia', 'mau'],\n",
       "      dtype='object')"
      ]
     },
     "execution_count": 3,
     "metadata": {},
     "output_type": "execute_result"
    }
   ],
   "source": [
    "df_principal.columns"
   ]
  },
  {
   "cell_type": "code",
   "execution_count": 4,
   "metadata": {},
   "outputs": [
    {
     "data": {
      "text/plain": [
       "sexo                      object\n",
       "posse_de_veiculo          object\n",
       "posse_de_imovel           object\n",
       "qtd_filhos                 int64\n",
       "tipo_renda                object\n",
       "educacao                  object\n",
       "estado_civil              object\n",
       "tipo_residencia           object\n",
       "idade                    float64\n",
       "tempo_emprego            float64\n",
       "possui_celular             int64\n",
       "possui_fone_comercial      int64\n",
       "possui_fone                int64\n",
       "possui_email               int64\n",
       "qt_pessoas_residencia    float64\n",
       "mau                         bool\n",
       "dtype: object"
      ]
     },
     "execution_count": 4,
     "metadata": {},
     "output_type": "execute_result"
    }
   ],
   "source": [
    "df_principal.dtypes"
   ]
  },
  {
   "cell_type": "code",
   "execution_count": 5,
   "metadata": {},
   "outputs": [
    {
     "data": {
      "text/plain": [
       "sexo                     0\n",
       "posse_de_veiculo         0\n",
       "posse_de_imovel          0\n",
       "qtd_filhos               0\n",
       "tipo_renda               0\n",
       "educacao                 0\n",
       "estado_civil             0\n",
       "tipo_residencia          0\n",
       "idade                    0\n",
       "tempo_emprego            0\n",
       "possui_celular           0\n",
       "possui_fone_comercial    0\n",
       "possui_fone              0\n",
       "possui_email             0\n",
       "qt_pessoas_residencia    0\n",
       "mau                      0\n",
       "dtype: int64"
      ]
     },
     "execution_count": 5,
     "metadata": {},
     "output_type": "execute_result"
    }
   ],
   "source": [
    "df_principal.isna().sum()"
   ]
  },
  {
   "cell_type": "code",
   "execution_count": 6,
   "metadata": {},
   "outputs": [
    {
     "data": {
      "text/plain": [
       "mau\n",
       "False    16260\n",
       "True       390\n",
       "Name: count, dtype: int64"
      ]
     },
     "execution_count": 6,
     "metadata": {},
     "output_type": "execute_result"
    }
   ],
   "source": [
    "df_principal[\"mau\"].value_counts()"
   ]
  },
  {
   "cell_type": "markdown",
   "metadata": {
    "id": "_v0f02mE_2si"
   },
   "source": [
    "#### 2) Vamos montar um metadados\n",
    "\n",
    "1. Crie um dataframe com os nomes de cada variável e o tipo de dados de cada variável.\n",
    "2. Adicione uma coluna nesse *dataframe* chamada \"qtd_categorias\" e coloque nela o número de categorias correspondente de cada variável.\n",
    "    Dica:\n",
    "        1. inicie uma lista vazia\n",
    "        2. faça um for ao longo dos nomes das variáveis,\n",
    "        3. conte o número de categorias dessa variável\n",
    "        4. acumule essa informação de 3. na lista que você criou em 1.\n",
    "        5. No final, essa lista pode ser atribuída à nossa variável."
   ]
  },
  {
   "cell_type": "code",
   "execution_count": 7,
   "metadata": {
    "id": "gNF5BRdA_2si"
   },
   "outputs": [
    {
     "data": {
      "text/html": [
       "<div>\n",
       "<style scoped>\n",
       "    .dataframe tbody tr th:only-of-type {\n",
       "        vertical-align: middle;\n",
       "    }\n",
       "\n",
       "    .dataframe tbody tr th {\n",
       "        vertical-align: top;\n",
       "    }\n",
       "\n",
       "    .dataframe thead th {\n",
       "        text-align: right;\n",
       "    }\n",
       "</style>\n",
       "<table border=\"1\" class=\"dataframe\">\n",
       "  <thead>\n",
       "    <tr style=\"text-align: right;\">\n",
       "      <th></th>\n",
       "      <th>variavel</th>\n",
       "      <th>tipo_dados</th>\n",
       "      <th>qtd-categorias</th>\n",
       "    </tr>\n",
       "  </thead>\n",
       "  <tbody>\n",
       "    <tr>\n",
       "      <th>sexo</th>\n",
       "      <td>sexo</td>\n",
       "      <td>object</td>\n",
       "      <td>2</td>\n",
       "    </tr>\n",
       "    <tr>\n",
       "      <th>posse_de_veiculo</th>\n",
       "      <td>posse_de_veiculo</td>\n",
       "      <td>object</td>\n",
       "      <td>2</td>\n",
       "    </tr>\n",
       "    <tr>\n",
       "      <th>posse_de_imovel</th>\n",
       "      <td>posse_de_imovel</td>\n",
       "      <td>object</td>\n",
       "      <td>2</td>\n",
       "    </tr>\n",
       "    <tr>\n",
       "      <th>qtd_filhos</th>\n",
       "      <td>qtd_filhos</td>\n",
       "      <td>int64</td>\n",
       "      <td>6</td>\n",
       "    </tr>\n",
       "    <tr>\n",
       "      <th>tipo_renda</th>\n",
       "      <td>tipo_renda</td>\n",
       "      <td>object</td>\n",
       "      <td>5</td>\n",
       "    </tr>\n",
       "  </tbody>\n",
       "</table>\n",
       "</div>"
      ],
      "text/plain": [
       "                          variavel tipo_dados  qtd-categorias\n",
       "sexo                          sexo     object               2\n",
       "posse_de_veiculo  posse_de_veiculo     object               2\n",
       "posse_de_imovel    posse_de_imovel     object               2\n",
       "qtd_filhos              qtd_filhos      int64               6\n",
       "tipo_renda              tipo_renda     object               5"
      ]
     },
     "execution_count": 7,
     "metadata": {},
     "output_type": "execute_result"
    }
   ],
   "source": [
    "new_df = pd.DataFrame({\n",
    "   \"variavel\": df_principal.columns,\n",
    "   \"tipo_dados\": df_principal.dtypes\n",
    "})\n",
    "\n",
    "qtd_categorias = []\n",
    "\n",
    "for column in df_principal.columns:\n",
    "   qtd_variavel = df_principal[column].value_counts().nunique()\n",
    "   qtd_categorias.append(qtd_variavel)\n",
    "\n",
    "new_df['qtd-categorias'] = qtd_categorias\n",
    "\n",
    "new_df.head()"
   ]
  },
  {
   "cell_type": "markdown",
   "metadata": {
    "id": "h0XKJFhY_2si"
   },
   "source": [
    "#### 3) Crie variáveis dummy para as variáveis necessárias (i.e. aquelas que são qualitativas e não estão armazenadas como {0, 1} ou {True, False}. Crie um *dataframe* apenas com as variáveis apropriadas para entrada no scikitlearn - elimine as variáveis tipo *str*, mantendo apenas suas versões *dummy*."
   ]
  },
  {
   "cell_type": "code",
   "execution_count": 8,
   "metadata": {
    "id": "ePbdZDOi_2sj"
   },
   "outputs": [
    {
     "data": {
      "text/plain": [
       "sexo                      object\n",
       "posse_de_veiculo          object\n",
       "posse_de_imovel           object\n",
       "qtd_filhos                 int64\n",
       "tipo_renda                object\n",
       "educacao                  object\n",
       "estado_civil              object\n",
       "tipo_residencia           object\n",
       "idade                    float64\n",
       "tempo_emprego            float64\n",
       "possui_celular             int64\n",
       "possui_fone_comercial      int64\n",
       "possui_fone                int64\n",
       "possui_email               int64\n",
       "qt_pessoas_residencia    float64\n",
       "mau                         bool\n",
       "dtype: object"
      ]
     },
     "execution_count": 8,
     "metadata": {},
     "output_type": "execute_result"
    }
   ],
   "source": [
    "df_principal.dtypes"
   ]
  },
  {
   "cell_type": "code",
   "execution_count": 19,
   "metadata": {},
   "outputs": [],
   "source": [
    "var_qualitativas = df_principal[[\"sexo\", \"posse_de_veiculo\", \"posse_de_imovel\", \"tipo_renda\", \"educacao\", \"estado_civil\", \"tipo_residencia\"]]\n",
    "\n",
    "df_dummie = pd.get_dummies(var_qualitativas, drop_first=True)\n",
    "\n",
    "df_concat = pd.concat([df_principal, df_dummie], axis=1)\n",
    "\n",
    "colunas_object = df_concat.select_dtypes(include=\"object\").columns\n",
    "new_df_concat = df_concat.drop(columns = colunas_object)\n"
   ]
  },
  {
   "cell_type": "code",
   "execution_count": 20,
   "metadata": {},
   "outputs": [
    {
     "data": {
      "text/plain": [
       "qtd_filhos                                  int64\n",
       "idade                                     float64\n",
       "tempo_emprego                             float64\n",
       "possui_celular                              int64\n",
       "possui_fone_comercial                       int64\n",
       "possui_fone                                 int64\n",
       "possui_email                                int64\n",
       "qt_pessoas_residencia                     float64\n",
       "mau                                          bool\n",
       "sexo_M                                       bool\n",
       "posse_de_veiculo_Y                           bool\n",
       "posse_de_imovel_Y                            bool\n",
       "tipo_renda_Pensioner                         bool\n",
       "tipo_renda_State servant                     bool\n",
       "tipo_renda_Student                           bool\n",
       "tipo_renda_Working                           bool\n",
       "educacao_Higher education                    bool\n",
       "educacao_Incomplete higher                   bool\n",
       "educacao_Lower secondary                     bool\n",
       "educacao_Secondary / secondary special       bool\n",
       "estado_civil_Married                         bool\n",
       "estado_civil_Separated                       bool\n",
       "estado_civil_Single / not married            bool\n",
       "estado_civil_Widow                           bool\n",
       "tipo_residencia_House / apartment            bool\n",
       "tipo_residencia_Municipal apartment          bool\n",
       "tipo_residencia_Office apartment             bool\n",
       "tipo_residencia_Rented apartment             bool\n",
       "tipo_residencia_With parents                 bool\n",
       "dtype: object"
      ]
     },
     "execution_count": 20,
     "metadata": {},
     "output_type": "execute_result"
    }
   ],
   "source": [
    "new_df_concat.dtypes"
   ]
  },
  {
   "cell_type": "markdown",
   "metadata": {
    "id": "uhaqFcPE_2sj"
   },
   "source": [
    "#### 4) Qual variável é mais poderosa?\n",
    "\n",
    "Considere as variáveis ```possui_email``` e ```posse_de_veiculo```. Faça uma tabela cruzada entre elas e responda qual delas te parece mais poderosa para prever a probabilidade de ```mau = 1```?"
   ]
  },
  {
   "cell_type": "code",
   "execution_count": 22,
   "metadata": {
    "id": "3wUAHc_-_2sj"
   },
   "outputs": [
    {
     "data": {
      "text/html": [
       "<div>\n",
       "<style scoped>\n",
       "    .dataframe tbody tr th:only-of-type {\n",
       "        vertical-align: middle;\n",
       "    }\n",
       "\n",
       "    .dataframe tbody tr th {\n",
       "        vertical-align: top;\n",
       "    }\n",
       "\n",
       "    .dataframe thead th {\n",
       "        text-align: right;\n",
       "    }\n",
       "</style>\n",
       "<table border=\"1\" class=\"dataframe\">\n",
       "  <thead>\n",
       "    <tr style=\"text-align: right;\">\n",
       "      <th>posse_de_veiculo_Y</th>\n",
       "      <th>False</th>\n",
       "      <th>True</th>\n",
       "    </tr>\n",
       "    <tr>\n",
       "      <th>possui_email</th>\n",
       "      <th></th>\n",
       "      <th></th>\n",
       "    </tr>\n",
       "  </thead>\n",
       "  <tbody>\n",
       "    <tr>\n",
       "      <th>0</th>\n",
       "      <td>0.615755</td>\n",
       "      <td>0.384245</td>\n",
       "    </tr>\n",
       "    <tr>\n",
       "      <th>1</th>\n",
       "      <td>0.565541</td>\n",
       "      <td>0.434459</td>\n",
       "    </tr>\n",
       "  </tbody>\n",
       "</table>\n",
       "</div>"
      ],
      "text/plain": [
       "posse_de_veiculo_Y     False     True \n",
       "possui_email                          \n",
       "0                   0.615755  0.384245\n",
       "1                   0.565541  0.434459"
      ]
     },
     "execution_count": 22,
     "metadata": {},
     "output_type": "execute_result"
    }
   ],
   "source": [
    "validação = pd.crosstab(new_df_concat[\"possui_email\"], new_df_concat[\"posse_de_veiculo_Y\"], normalize= \"index\")\n",
    "validação\n",
    "#Pelo que estou compreendendo quando fazemos a tabela cruzada, é notorio a variação de posse_de_veiculo_y = False com uma variavel mais poderosa, visto que temos uma variação de 23 pontos percentuais, ou seja como possui uma maior sepração nas probabilidades ele é uma variável mais forte."
   ]
  },
  {
   "cell_type": "markdown",
   "metadata": {
    "id": "G2Issl2e_2sj"
   },
   "source": [
    "#### 5) Salve a base, pois ela será utilizada no final deste módulo."
   ]
  },
  {
   "cell_type": "code",
   "execution_count": 23,
   "metadata": {
    "id": "KSEj8OL9_2sk"
   },
   "outputs": [],
   "source": [
    "df_sckitlearn = new_df_concat.to_csv(\"base_sckitlearn.csv\", index=False)"
   ]
  }
 ],
 "metadata": {
  "colab": {
   "provenance": []
  },
  "kernelspec": {
   "display_name": "Python 3",
   "language": "python",
   "name": "python3"
  },
  "language_info": {
   "codemirror_mode": {
    "name": "ipython",
    "version": 3
   },
   "file_extension": ".py",
   "mimetype": "text/x-python",
   "name": "python",
   "nbconvert_exporter": "python",
   "pygments_lexer": "ipython3",
   "version": "3.12.2"
  }
 },
 "nbformat": 4,
 "nbformat_minor": 0
}
